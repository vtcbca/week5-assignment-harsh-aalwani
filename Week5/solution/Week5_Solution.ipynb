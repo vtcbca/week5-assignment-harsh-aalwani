{
 "cells": [
  {
   "cell_type": "markdown",
   "id": "cbcc206c",
   "metadata": {},
   "source": [
    "### INSERTING RECORDS"
   ]
  },
  {
   "cell_type": "code",
   "execution_count": 1,
   "id": "1439aabd",
   "metadata": {},
   "outputs": [],
   "source": [
    "def insertFunct():\n",
    "    import csv    #importing csv functions\n",
    "    fields=['sid','sname','city','contact']\n",
    "    rows=[[101,'Om','Bardoli',9999990000],\n",
    "      [102,'Sai','Surat',9998888000],\n",
    "      [103,'Ram','Navsari',9991110000],\n",
    "      [104,'Vatsal','Vyara',9999666000],\n",
    "      [105,'Harsh','Bardoli',8889900222]]     #pre-inserted records\n",
    "    print(\"Enter the required records: \")\n",
    "    for i in range(5):\n",
    "        s_id=int(input(\"Enter Student ID: \"))\n",
    "        name=input(\"Enter Student Name: \")\n",
    "        city=input(\"Enter their city name: \")\n",
    "        contact=int(input(\"Enter their Contact info: \"))\n",
    "        srow=[s_id,name,city,contact]         #user input records\n",
    "        rows.append(srow)\n",
    "    with open('D:\\\\python\\\\student.csv','w',newline='') as csvfile:\n",
    "        csvwriter=csv.writer(csvfile)\n",
    "        csvwriter.writerow(fields)     #writing column names into csv file\n",
    "        csvwriter.writerows(rows)      #writing student info into csv file"
   ]
  },
  {
   "cell_type": "markdown",
   "id": "e12afed9",
   "metadata": {},
   "source": [
    "### READING RECORDS"
   ]
  },
  {
   "cell_type": "code",
   "execution_count": 2,
   "id": "a27e7665",
   "metadata": {},
   "outputs": [],
   "source": [
    "def readFunct():\n",
    "    import csv    #importing csv file\n",
    "    with open('D:\\\\python\\\\student.csv', 'r') as read_file:\n",
    "        read =csv.reader(read_file)\n",
    "        header=next(read)      # Skip headers from file\n",
    "        for records in read:\n",
    "            print(records[0], records[1],records[2],records[3])    #printing records"
   ]
  },
  {
   "cell_type": "code",
   "execution_count": 4,
   "id": "d7c6317b",
   "metadata": {},
   "outputs": [
    {
     "name": "stdout",
     "output_type": "stream",
     "text": [
      "Enter the required records: \n",
      "Enter Student ID: 106\n",
      "Enter Student Name: Meet\n",
      "Enter their city name: Surat\n",
      "Enter their Contact info: 8889998881\n",
      "Enter Student ID: 107\n",
      "Enter Student Name: Vishal\n",
      "Enter their city name: Vyara\n",
      "Enter their Contact info: 9876987600\n",
      "Enter Student ID: 108\n",
      "Enter Student Name: Ajay\n",
      "Enter their city name: Surat\n",
      "Enter their Contact info: 9999900891\n",
      "Enter Student ID: 109\n",
      "Enter Student Name: Abhiraj\n",
      "Enter their city name: Bardoli\n",
      "Enter their Contact info: 7778889990\n",
      "Enter Student ID: 110\n",
      "Enter Student Name: Jay\n",
      "Enter their city name: Navsari\n",
      "Enter their Contact info: 8988877677\n"
     ]
    }
   ],
   "source": [
    "insertFunct()    #directly calling function"
   ]
  },
  {
   "cell_type": "code",
   "execution_count": 5,
   "id": "20c525d7",
   "metadata": {},
   "outputs": [
    {
     "name": "stdout",
     "output_type": "stream",
     "text": [
      "101 Om Bardoli 9999990000\n",
      "102 Sai Surat 9998888000\n",
      "103 Ram Navsari 9991110000\n",
      "104 Vatsal Vyara 9999666000\n",
      "105 Harsh Bardoli 8889900222\n",
      "106 Meet Surat 8889998881\n",
      "107 Vishal Vyara 9876987600\n",
      "108 Ajay Surat 9999900891\n",
      "109 Abhiraj Bardoli 7778889990\n",
      "110 Jay Navsari 8988877677\n"
     ]
    }
   ],
   "source": [
    "readFunct()      #directly calling function"
   ]
  },
  {
   "cell_type": "markdown",
   "id": "1324a91e",
   "metadata": {},
   "source": [
    "#### Developed by Harsh U. Aalwani"
   ]
  }
 ],
 "metadata": {
  "kernelspec": {
   "display_name": "Python 3 (ipykernel)",
   "language": "python",
   "name": "python3"
  },
  "language_info": {
   "codemirror_mode": {
    "name": "ipython",
    "version": 3
   },
   "file_extension": ".py",
   "mimetype": "text/x-python",
   "name": "python",
   "nbconvert_exporter": "python",
   "pygments_lexer": "ipython3",
   "version": "3.11.4"
  }
 },
 "nbformat": 4,
 "nbformat_minor": 5
}
